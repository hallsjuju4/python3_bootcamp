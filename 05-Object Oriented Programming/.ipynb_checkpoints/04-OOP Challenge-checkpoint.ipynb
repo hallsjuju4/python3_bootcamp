{
 "cells": [
  {
   "cell_type": "markdown",
   "metadata": {},
   "source": [
    "# Object Oriented Programming Challenge\n",
    "\n",
    "For this challenge, create a bank account class that has two attributes:\n",
    "\n",
    "* owner\n",
    "* balance\n",
    "\n",
    "and two methods:\n",
    "\n",
    "* deposit\n",
    "* withdraw\n",
    "\n",
    "As an added requirement, withdrawals may not exceed the available balance.\n",
    "\n",
    "Instantiate your class, make several deposits and withdrawals, and test to make sure the account can't be overdrawn."
   ]
  },
  {
   "cell_type": "code",
   "execution_count": 1,
   "metadata": {},
   "outputs": [],
   "source": [
    "class Account(object):\n",
    "\n",
    "    NEWLINE = '\\n'\n",
    "    \n",
    "    def __init__(self, owner=None, balance=None):\n",
    "        self.owner = owner\n",
    "        self.balance = balance\n",
    "    \n",
    "    def __str__(self):\n",
    "        # account statement\n",
    "        acctstmt = \"\"\n",
    "        acctstmt += Account.NEWLINE\n",
    "        acctstmt += f'Account Owner  : {self.owner}' + Account.NEWLINE\n",
    "        acctstmt += f'Account Balance: ${self.balance:.2f}' + Account.NEWLINE\n",
    "        return acctstmt\n",
    "        \n",
    "    def deposit(self, addfunds):\n",
    "        print(f'Current Balance: {self.balance:.2f}')\n",
    "        print(f'Deposit Made   : {addfunds:.2f}')\n",
    "        self.balance += addfunds\n",
    "        # spill account info\n",
    "        print(self)\n",
    "    \n",
    "    def withdraw(self, removefunds):\n",
    "        # As an added requirement, withdrawals may not exceed the available balance.\n",
    "        print(f'Current Balance  : {self.balance:.2f}')\n",
    "        print(f'Withdrawl Request: {removefunds:.2f}')\n",
    "        if self.balance - removefunds < 0:\n",
    "              print('Sorry! - Insufficient Funds')\n",
    "        else:\n",
    "            print('Withdrawl Approved')\n",
    "            self.balance -= removefunds\n",
    "        # spill account info\n",
    "        print(self)\n",
    "        \n",
    "        "
   ]
  },
  {
   "cell_type": "code",
   "execution_count": 2,
   "metadata": {},
   "outputs": [],
   "source": [
    "# 1. Instantiate the class\n",
    "acct1 = Account('Jose',100)"
   ]
  },
  {
   "cell_type": "code",
   "execution_count": 3,
   "metadata": {},
   "outputs": [
    {
     "name": "stdout",
     "output_type": "stream",
     "text": [
      "\n",
      "Account Owner  : Jose\n",
      "Account Balance: $100.00\n",
      "\n"
     ]
    }
   ],
   "source": [
    "# 2. Print the object\n",
    "print(acct1)"
   ]
  },
  {
   "cell_type": "code",
   "execution_count": 4,
   "metadata": {},
   "outputs": [
    {
     "data": {
      "text/plain": [
       "'Jose'"
      ]
     },
     "execution_count": 4,
     "metadata": {},
     "output_type": "execute_result"
    }
   ],
   "source": [
    "# 3. Show the account owner attribute\n",
    "acct1.owner"
   ]
  },
  {
   "cell_type": "code",
   "execution_count": 5,
   "metadata": {},
   "outputs": [
    {
     "data": {
      "text/plain": [
       "100"
      ]
     },
     "execution_count": 5,
     "metadata": {},
     "output_type": "execute_result"
    }
   ],
   "source": [
    "# 4. Show the account balance attribute\n",
    "acct1.balance"
   ]
  },
  {
   "cell_type": "code",
   "execution_count": 6,
   "metadata": {},
   "outputs": [
    {
     "name": "stdout",
     "output_type": "stream",
     "text": [
      "\n",
      "\n",
      "Current Balance: 100.00\n",
      "Deposit Made   : 50.00\n",
      "\n",
      "Account Owner  : Jose\n",
      "Account Balance: $150.00\n",
      "\n"
     ]
    }
   ],
   "source": [
    "# 5. Make a series of deposits and withdrawals\n",
    "acct1.deposit(50)"
   ]
  },
  {
   "cell_type": "code",
   "execution_count": 7,
   "metadata": {},
   "outputs": [
    {
     "name": "stdout",
     "output_type": "stream",
     "text": [
      "\n",
      "\n",
      "Current Balance  : 150.00\n",
      "Withdrawl Request: 75.00\n",
      "Withdrawl Approved\n",
      "\n",
      "Account Owner  : Jose\n",
      "Account Balance: $75.00\n",
      "\n"
     ]
    }
   ],
   "source": [
    "acct1.withdraw(75)"
   ]
  },
  {
   "cell_type": "code",
   "execution_count": 8,
   "metadata": {},
   "outputs": [
    {
     "name": "stdout",
     "output_type": "stream",
     "text": [
      "\n",
      "\n",
      "Current Balance  : 75.00\n",
      "Withdrawl Request: 500.00\n",
      "Sorry! - Insufficient Funds\n",
      "\n",
      "Account Owner  : Jose\n",
      "Account Balance: $75.00\n",
      "\n"
     ]
    }
   ],
   "source": [
    "# 6. Make a withdrawal that exceeds the available balance\n",
    "acct1.withdraw(500)"
   ]
  },
  {
   "cell_type": "markdown",
   "metadata": {},
   "source": [
    "## Good job!"
   ]
  }
 ],
 "metadata": {
  "kernelspec": {
   "display_name": "Python 3",
   "language": "python",
   "name": "python3"
  },
  "language_info": {
   "codemirror_mode": {
    "name": "ipython",
    "version": 3
   },
   "file_extension": ".py",
   "mimetype": "text/x-python",
   "name": "python",
   "nbconvert_exporter": "python",
   "pygments_lexer": "ipython3",
   "version": "3.7.6"
  }
 },
 "nbformat": 4,
 "nbformat_minor": 2
}
