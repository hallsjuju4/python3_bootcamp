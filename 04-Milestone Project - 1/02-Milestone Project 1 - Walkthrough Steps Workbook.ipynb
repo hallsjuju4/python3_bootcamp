{
 "cells": [
  {
   "cell_type": "markdown",
   "metadata": {},
   "source": [
    "# Milestone Project 1: Walkthrough Steps Workbook\n",
    "\n",
    "Below is a set of steps for you to follow to try to create the Tic Tac Toe Milestone Project game!"
   ]
  },
  {
   "cell_type": "markdown",
   "metadata": {},
   "source": [
    "#### Some suggested tools before you get started:\n",
    "To take input from a user:\n",
    "\n",
    "    player1 = input(\"Please pick a marker 'X' or 'O'\")\n",
    "    \n",
    "Note that input() takes in a string. If you need an integer value, use\n",
    "\n",
    "    position = int(input('Please enter a number'))\n",
    "    \n",
    "<br>To clear the screen between moves:\n",
    "\n",
    "    from IPython.display import clear_output\n",
    "    clear_output()\n",
    "    \n",
    "Note that clear_output() will only work in jupyter. To clear the screen in other IDEs, consider:\n",
    "\n",
    "    print('\\n'*100)\n",
    "    \n",
    "This scrolls the previous board up out of view. Now on to the program!"
   ]
  },
  {
   "cell_type": "markdown",
   "metadata": {},
   "source": [
    "**Step 1: Write a function that can print out a board. Set up your board as a list, where each index 1-9 corresponds with a number on a number pad, so you get a 3 by 3 board representation.**"
   ]
  },
  {
   "cell_type": "code",
   "execution_count": 1,
   "metadata": {},
   "outputs": [],
   "source": [
    "from IPython.display import clear_output\n",
    "\n",
    "player_markers = ['#', None, None]\n",
    "board = ['#',' ',' ',' ',' ',' ',' ',' ',' ',' ']\n",
    "\n",
    "span = \"               \"\n",
    "title = 'Tic-Tac-Toe Board      Grid Number Index Map'\n",
    "banner = '   |   |' + span + '     |   |'\n",
    "line = ' ' + '{}' + ' | ' + '{}' + ' | ' + '{}' + span + ' ' + '{}' + ' | ' + '{}' + ' | ' + '{}'\n",
    "spacer = '-----------' + span + '-----------'\n"
   ]
  },
  {
   "cell_type": "code",
   "execution_count": 2,
   "metadata": {},
   "outputs": [],
   "source": [
    "def display_board(board):\n",
    "    # clear the screen\n",
    "    clear_output()\n",
    "    \n",
    "    print(title)\n",
    "    print(banner)\n",
    "    print(line.format(board[1], board[2], board[3], 1, 2, 3))\n",
    "    print(banner)\n",
    "    print(spacer)\n",
    "    print(banner)\n",
    "    print(line.format(board[4], board[5], board[6], 4, 5, 6))\n",
    "    print(banner)\n",
    "    print(spacer)\n",
    "    print(banner)\n",
    "    print(line.format(board[7], board[8], board[9], 7, 8, 9))\n",
    "    print(banner)\n"
   ]
  },
  {
   "cell_type": "markdown",
   "metadata": {},
   "source": [
    "**TEST Step 1:** run your function on a test version of the board list, and make adjustments as necessary"
   ]
  },
  {
   "cell_type": "code",
   "execution_count": 3,
   "metadata": {},
   "outputs": [
    {
     "name": "stdout",
     "output_type": "stream",
     "text": [
      "Tic-Tac-Toe Board      Grid Number Index Map\n",
      "   |   |                    |   |\n",
      " X | O | X                1 | 2 | 3\n",
      "   |   |                    |   |\n",
      "-----------               -----------\n",
      "   |   |                    |   |\n",
      " O | X | O                4 | 5 | 6\n",
      "   |   |                    |   |\n",
      "-----------               -----------\n",
      "   |   |                    |   |\n",
      " X | O | X                7 | 8 | 9\n",
      "   |   |                    |   |\n"
     ]
    }
   ],
   "source": [
    "test_board = ['#','X','O','X','O','X','O','X','O','X']\n",
    "display_board(test_board)"
   ]
  },
  {
   "cell_type": "markdown",
   "metadata": {},
   "source": [
    "**Step 2: Write a function that can take in a player input and assign their marker as 'X' or 'O'. Think about using *while* loops to continually ask until you get a correct answer.**"
   ]
  },
  {
   "cell_type": "code",
   "execution_count": 4,
   "metadata": {},
   "outputs": [],
   "source": [
    "def player_input(player_markers):\n",
    "    marker = '@'\n",
    "    marker_types = ('X', 'O')\n",
    "    while marker not in marker_types:\n",
    "        marker = input('Player 1: Do you want to be X or O? ').upper()\n",
    "        if marker not in marker_types:\n",
    "            print('Invalid Entry!')\n",
    "        else:\n",
    "            print(f'Player 1: Marker is {marker}')\n",
    "            print( '---------------------')\n",
    "    \n",
    "    # set player markers\n",
    "    player_markers[1] = marker\n",
    "    if player_markers[1] == 'X':\n",
    "        player_markers[2] = '0'\n",
    "    else:\n",
    "        player_markers[2] = 'X'\n",
    "                \n",
    "    return player_markers\n",
    "        "
   ]
  },
  {
   "cell_type": "markdown",
   "metadata": {},
   "source": [
    "**TEST Step 2:** run the function to make sure it returns the desired output"
   ]
  },
  {
   "cell_type": "code",
   "execution_count": 5,
   "metadata": {},
   "outputs": [
    {
     "name": "stdout",
     "output_type": "stream",
     "text": [
      "Player 1: Do you want to be X or O? X\n",
      "Player 1: Marker is X\n",
      "---------------------\n",
      "Player1 is: X\n",
      "Player2 is: 0\n"
     ]
    }
   ],
   "source": [
    "player_markers = player_input(player_markers)\n",
    "print(f'Player1 is: {player_markers[1]}')\n",
    "print(f'Player2 is: {player_markers[2]}')"
   ]
  },
  {
   "cell_type": "markdown",
   "metadata": {},
   "source": [
    "**Step 3: Write a function that takes in the board list object, a marker ('X' or 'O'), and a desired position (number 1-9) and assigns it to the board.**"
   ]
  },
  {
   "cell_type": "code",
   "execution_count": 6,
   "metadata": {},
   "outputs": [],
   "source": [
    "def place_marker(board, marker, position):\n",
    "    board[position] = marker\n",
    "    display_board(board)\n",
    "    return board\n"
   ]
  },
  {
   "cell_type": "markdown",
   "metadata": {},
   "source": [
    "**TEST Step 3:** run the place marker function using test parameters and display the modified board"
   ]
  },
  {
   "cell_type": "code",
   "execution_count": 7,
   "metadata": {},
   "outputs": [
    {
     "name": "stdout",
     "output_type": "stream",
     "text": [
      "Tic-Tac-Toe Board      Grid Number Index Map\n",
      "   |   |                    |   |\n",
      " X | O | X                1 | 2 | 3\n",
      "   |   |                    |   |\n",
      "-----------               -----------\n",
      "   |   |                    |   |\n",
      " O | X | O                4 | 5 | 6\n",
      "   |   |                    |   |\n",
      "-----------               -----------\n",
      "   |   |                    |   |\n",
      " X | $ | X                7 | 8 | 9\n",
      "   |   |                    |   |\n"
     ]
    }
   ],
   "source": [
    "place_marker(test_board,'$',8)\n",
    "display_board(test_board)"
   ]
  },
  {
   "cell_type": "markdown",
   "metadata": {},
   "source": [
    "**Step 4: Write a function that takes in a board and a mark (X or O) and then checks to see if that mark has won. **"
   ]
  },
  {
   "cell_type": "code",
   "execution_count": 8,
   "metadata": {},
   "outputs": [],
   "source": [
    "def win_check(board, mark):\n",
    "    winlist = [(1, 2, 3), (4, 5, 6), (7, 8, 9), (1, 4, 7), (2, 5, 8), (3, 6, 9), (1, 5, 9), (3, 5, 7)]\n",
    "    for item in winlist:\n",
    "        if board[item[0]] == mark and board[item[1]] == mark and board[item[2]] == mark:\n",
    "            print('We have a winnner!!!')\n",
    "            print(item)\n",
    "            return True\n",
    "    return False"
   ]
  },
  {
   "cell_type": "markdown",
   "metadata": {},
   "source": [
    "**TEST Step 4:** run the win_check function against our test_board - it should return True"
   ]
  },
  {
   "cell_type": "code",
   "execution_count": 9,
   "metadata": {},
   "outputs": [
    {
     "name": "stdout",
     "output_type": "stream",
     "text": [
      "We have a winnner!!!\n",
      "(1, 5, 9)\n"
     ]
    },
    {
     "data": {
      "text/plain": [
       "True"
      ]
     },
     "execution_count": 9,
     "metadata": {},
     "output_type": "execute_result"
    }
   ],
   "source": [
    "# Test Step 4\n",
    "win_check(test_board,'X')"
   ]
  },
  {
   "cell_type": "markdown",
   "metadata": {},
   "source": [
    "**Step 5: Write a function that uses the random module to randomly decide which player goes first. You may want to lookup random.randint() Return a string of which player went first.**"
   ]
  },
  {
   "cell_type": "code",
   "execution_count": 10,
   "metadata": {},
   "outputs": [],
   "source": [
    "import random\n",
    "\n",
    "def choose_first():\n",
    "    print('Randomly selecting who goes first...')\n",
    "    return random.randint(1, 2)"
   ]
  },
  {
   "cell_type": "markdown",
   "metadata": {},
   "source": [
    "**Step 6: Write a function that returns a boolean indicating whether a space on the board is freely available.**"
   ]
  },
  {
   "cell_type": "code",
   "execution_count": 11,
   "metadata": {},
   "outputs": [],
   "source": [
    "def space_check(board, position):\n",
    "    return board[position] == ' '\n"
   ]
  },
  {
   "cell_type": "code",
   "execution_count": 12,
   "metadata": {},
   "outputs": [
    {
     "data": {
      "text/plain": [
       "True"
      ]
     },
     "execution_count": 12,
     "metadata": {},
     "output_type": "execute_result"
    }
   ],
   "source": [
    "# Test step 6\n",
    "test_board = ['#','X','O',' ','O','X','O','X','O','X']\n",
    "space_check(test_board, 3)\n"
   ]
  },
  {
   "cell_type": "markdown",
   "metadata": {},
   "source": [
    "**Step 7: Write a function that checks if the board is full and returns a boolean value. True if full, False otherwise.**"
   ]
  },
  {
   "cell_type": "code",
   "execution_count": 13,
   "metadata": {},
   "outputs": [],
   "source": [
    "def full_board_check(board):\n",
    "    for i in range(1,10):\n",
    "        if board[i] == ' ':\n",
    "            return False\n",
    "    print('We have a stalemate!')\n",
    "    return True\n"
   ]
  },
  {
   "cell_type": "markdown",
   "metadata": {},
   "source": [
    "**Step 8: Write a function that asks for a player's next position (as a number 1-9) and then uses the function from step 6 to check if it's a free position. If it is, then return the position for later use.**"
   ]
  },
  {
   "cell_type": "code",
   "execution_count": 14,
   "metadata": {},
   "outputs": [],
   "source": [
    "def player_choice(board):\n",
    "    valid_positions = list(range(1,10))\n",
    "    position = 0\n",
    "    while position not in valid_positions:\n",
    "        position = int(input('Choose your next position: (1-9) '))\n",
    "        if position not in valid_positions:\n",
    "            print('Invalid Entry!')\n",
    "            continue\n",
    "        if not space_check(board, position):\n",
    "            print('Position not Available!')\n",
    "            position = 0\n",
    "            continue\n",
    "            \n",
    "    return position"
   ]
  },
  {
   "cell_type": "code",
   "execution_count": 15,
   "metadata": {},
   "outputs": [
    {
     "name": "stdout",
     "output_type": "stream",
     "text": [
      "Choose your next position: (1-9) 2\n",
      "Position not Available!\n",
      "Choose your next position: (1-9) 3\n"
     ]
    },
    {
     "data": {
      "text/plain": [
       "3"
      ]
     },
     "execution_count": 15,
     "metadata": {},
     "output_type": "execute_result"
    }
   ],
   "source": [
    "# Test Step 8\n",
    "test_board = ['#','X','O',' ','O','X','O','X','O','X']\n",
    "player_choice(test_board)"
   ]
  },
  {
   "cell_type": "markdown",
   "metadata": {},
   "source": [
    "**Step 9: Write a function that asks the player if they want to play again and returns a boolean True if they do want to play again.**"
   ]
  },
  {
   "cell_type": "code",
   "execution_count": 16,
   "metadata": {},
   "outputs": [],
   "source": [
    "def replay():\n",
    "    return input('Do you want to play again? Enter Yes or No: ').lower().startswith('y')\n"
   ]
  },
  {
   "cell_type": "code",
   "execution_count": 17,
   "metadata": {},
   "outputs": [
    {
     "name": "stdout",
     "output_type": "stream",
     "text": [
      "Do you want to play again? Enter Yes or No: N\n"
     ]
    },
    {
     "data": {
      "text/plain": [
       "False"
      ]
     },
     "execution_count": 17,
     "metadata": {},
     "output_type": "execute_result"
    }
   ],
   "source": [
    "# test replay\n",
    "replay()"
   ]
  },
  {
   "cell_type": "markdown",
   "metadata": {
    "collapsed": true
   },
   "source": [
    "**Step 10: Here comes the hard part! Use while loops and the functions you've made to run the game!**"
   ]
  },
  {
   "cell_type": "code",
   "execution_count": null,
   "metadata": {},
   "outputs": [
    {
     "name": "stdout",
     "output_type": "stream",
     "text": [
      "Tic-Tac-Toe Board      Grid Number Index Map\n",
      "   |   |                    |   |\n",
      " X | X | 0                1 | 2 | 3\n",
      "   |   |                    |   |\n",
      "-----------               -----------\n",
      "   |   |                    |   |\n",
      " 0 | 0 | X                4 | 5 | 6\n",
      "   |   |                    |   |\n",
      "-----------               -----------\n",
      "   |   |                    |   |\n",
      " X | 0 |                  7 | 8 | 9\n",
      "   |   |                    |   |\n",
      "\n",
      "Player 2\n"
     ]
    }
   ],
   "source": [
    "print('Welcome to Tic Tac Toe!')\n",
    "game_off = False\n",
    "\n",
    "while game_off == False:\n",
    "    # set defaults\n",
    "    board = ['#',' ',' ',' ',' ',' ',' ',' ',' ',' ']\n",
    "    winner = False\n",
    "    stalemate = False\n",
    "   \n",
    "    # player 1 picks marker\n",
    "    player_input(player_markers)\n",
    "   \n",
    "    # Set the game up here\n",
    "    display_board(board)\n",
    "\n",
    "    # pick who goes first\n",
    "    turn = choose_first()\n",
    "    \n",
    "    game_on = True\n",
    "    while game_on:\n",
    "        marker = player_markers[turn]\n",
    "        print(f'\\nPlayer {turn}')\n",
    "        \n",
    "        # get players position choice and place it\n",
    "        position = player_choice(board)\n",
    "        if position:\n",
    "            place_marker(board, marker, position)\n",
    "        \n",
    "        # do we have a winner\n",
    "        winner = win_check(board, marker)\n",
    "        if winner:\n",
    "            print(f'Congratulations Player {turn}')\n",
    "            if not replay():\n",
    "                game_off = True\n",
    "                break\n",
    "        \n",
    "        # check for stalemate\n",
    "        stalemate = full_board_check(board)\n",
    "        if stalemate:\n",
    "            if not replay():\n",
    "                game_off = True\n",
    "                break\n",
    "        \n",
    "        # switch turns\n",
    "        if turn == 1:\n",
    "            turn = 2\n",
    "        else:\n",
    "            turn = 1\n",
    "    "
   ]
  },
  {
   "cell_type": "markdown",
   "metadata": {
    "collapsed": true
   },
   "source": [
    "## Good Job!"
   ]
  }
 ],
 "metadata": {
  "kernelspec": {
   "display_name": "Python 3",
   "language": "python",
   "name": "python3"
  },
  "language_info": {
   "codemirror_mode": {
    "name": "ipython",
    "version": 3
   },
   "file_extension": ".py",
   "mimetype": "text/x-python",
   "name": "python",
   "nbconvert_exporter": "python",
   "pygments_lexer": "ipython3",
   "version": "3.7.6"
  }
 },
 "nbformat": 4,
 "nbformat_minor": 1
}
