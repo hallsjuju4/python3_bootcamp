{
 "cells": [
  {
   "cell_type": "markdown",
   "metadata": {},
   "source": [
    "# Errors and Exceptions Homework"
   ]
  },
  {
   "cell_type": "markdown",
   "metadata": {},
   "source": [
    "### Problem 1\n",
    "Handle the exception thrown by the code below by using <code>try</code> and <code>except</code> blocks."
   ]
  },
  {
   "cell_type": "code",
   "execution_count": 1,
   "metadata": {},
   "outputs": [
    {
     "name": "stdout",
     "output_type": "stream",
     "text": [
      "We've encountered and exception with your list item a, all items must be numbers!\n",
      "We've encountered and exception with your list item b, all items must be numbers!\n",
      "We've encountered and exception with your list item c, all items must be numbers!\n"
     ]
    }
   ],
   "source": [
    "for i in ['a','b','c']:\n",
    "    try:\n",
    "        print(i**2)\n",
    "    except:\n",
    "        print(f\"We've encountered and exception with your list item {i}, all items must be numbers!\")\n",
    "              "
   ]
  },
  {
   "cell_type": "markdown",
   "metadata": {},
   "source": [
    "### Problem 2\n",
    "Handle the exception thrown by the code below by using <code>try</code> and <code>except</code> blocks. Then use a <code>finally</code> block to print 'All Done.'"
   ]
  },
  {
   "cell_type": "code",
   "execution_count": 2,
   "metadata": {},
   "outputs": [
    {
     "name": "stdout",
     "output_type": "stream",
     "text": [
      "Looks like you tried to divide by zero, that is a No No!\n",
      "All Done.\n"
     ]
    }
   ],
   "source": [
    "x = 5\n",
    "y = 0\n",
    "\n",
    "try:\n",
    "    z = x/y\n",
    "except ZeroDivisionError:\n",
    "    print('Looks like you tried to divide by zero, that is a No No!')\n",
    "except:\n",
    "    print('Unhandled Exception!')\n",
    "finally:\n",
    "    print('All Done.')\n",
    "    "
   ]
  },
  {
   "cell_type": "markdown",
   "metadata": {},
   "source": [
    "### Problem 3\n",
    "Write a function that asks for an integer and prints the square of it. Use a <code>while</code> loop with a <code>try</code>, <code>except</code>, <code>else</code> block to account for incorrect inputs."
   ]
  },
  {
   "cell_type": "code",
   "execution_count": 1,
   "metadata": {},
   "outputs": [],
   "source": [
    "def ask():\n",
    "    return input('Input an integer and I will square it: ')"
   ]
  },
  {
   "cell_type": "code",
   "execution_count": 2,
   "metadata": {},
   "outputs": [
    {
     "name": "stdout",
     "output_type": "stream",
     "text": [
      "Input an integer and I will square it: a\n",
      "An error occurred! Please try again!\n",
      "All entries must be an integer, your entry was an <class 'str'>\n",
      "Input an integer and I will square it: b\n",
      "An error occurred! Please try again!\n",
      "All entries must be an integer, your entry was an <class 'str'>\n",
      "Input an integer and I will square it: c\n",
      "An error occurred! Please try again!\n",
      "All entries must be an integer, your entry was an <class 'str'>\n",
      "Input an integer and I will square it: 1\n",
      "Thank you, your number squared is: 1\n"
     ]
    }
   ],
   "source": [
    "while True:\n",
    "    try:\n",
    "        result = ask()\n",
    "        ask = (int(result))**2\n",
    "    except:\n",
    "        print('An error occurred! Please try again!')\n",
    "        print(f'All entries must be an integer, your entry was an {type(result)}')\n",
    "        continue\n",
    "    else:\n",
    "        print(f'Thank you, your number squared is: {ask}')\n",
    "        break"
   ]
  },
  {
   "cell_type": "markdown",
   "metadata": {},
   "source": [
    "# Great Job!"
   ]
  }
 ],
 "metadata": {
  "kernelspec": {
   "display_name": "Python 3",
   "language": "python",
   "name": "python3"
  },
  "language_info": {
   "codemirror_mode": {
    "name": "ipython",
    "version": 3
   },
   "file_extension": ".py",
   "mimetype": "text/x-python",
   "name": "python",
   "nbconvert_exporter": "python",
   "pygments_lexer": "ipython3",
   "version": "3.7.6"
  }
 },
 "nbformat": 4,
 "nbformat_minor": 1
}
