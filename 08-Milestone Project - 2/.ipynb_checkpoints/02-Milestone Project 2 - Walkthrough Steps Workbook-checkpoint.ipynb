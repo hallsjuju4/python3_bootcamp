{
 "cells": [
  {
   "cell_type": "markdown",
   "metadata": {
    "collapsed": true
   },
   "source": [
    "# Milestone Project 2 - Walkthrough Steps Workbook\n",
    "Below is a set of steps for you to follow to try to create the Blackjack Milestone Project game!"
   ]
  },
  {
   "cell_type": "markdown",
   "metadata": {},
   "source": [
    "## Game Play\n",
    "To play a hand of Blackjack the following steps must be followed:\n",
    "1. Create a deck of 52 cards\n",
    "2. Shuffle the deck\n",
    "3. Ask the Player for their bet\n",
    "4. Make sure that the Player's bet does not exceed their available chips\n",
    "5. Deal two cards to the Dealer and two cards to the Player\n",
    "6. Show only one of the Dealer's cards, the other remains hidden\n",
    "7. Show both of the Player's cards\n",
    "8. Ask the Player if they wish to Hit, and take another card\n",
    "9. If the Player's hand doesn't Bust (go over 21), ask if they'd like to Hit again.\n",
    "10. If a Player Stands, play the Dealer's hand. The dealer will always Hit until the Dealer's value meets or exceeds 17\n",
    "11. Determine the winner and adjust the Player's chips accordingly\n",
    "12. Ask the Player if they'd like to play again"
   ]
  },
  {
   "cell_type": "markdown",
   "metadata": {},
   "source": [
    "## Playing Cards\n",
    "A standard deck of playing cards has four suits (Hearts, Diamonds, Spades and Clubs) and thirteen ranks (2 through 10, then the face cards Jack, Queen, King and Ace) for a total of 52 cards per deck. Jacks, Queens and Kings all have a rank of 10. Aces have a rank of either 11 or 1 as needed to reach 21 without busting. As a starting point in your program, you may want to assign variables to store a list of suits, ranks, and then use a dictionary to map ranks to values."
   ]
  },
  {
   "cell_type": "markdown",
   "metadata": {},
   "source": [
    "## The Game\n",
    "### Imports and Global Variables\n",
    "** Step 1: Import the random module. This will be used to shuffle the deck prior to dealing. Then, declare variables to store suits, ranks and values. You can develop your own system, or copy ours below. Finally, declare a Boolean value to be used to control <code>while</code> loops. This is a common practice used to control the flow of the game.**\n",
    "\n",
    "    suits = ('Hearts', 'Diamonds', 'Spades', 'Clubs')\n",
    "    ranks = ('Two', 'Three', 'Four', 'Five', 'Six', 'Seven', 'Eight', 'Nine', 'Ten', 'Jack', 'Queen', 'King', 'Ace')\n",
    "    values = {'Two':2, 'Three':3, 'Four':4, 'Five':5, 'Six':6, 'Seven':7, 'Eight':8, 'Nine':9, 'Ten':10, 'Jack':10,\n",
    "             'Queen':10, 'King':10, 'Ace':11}"
   ]
  },
  {
   "cell_type": "code",
   "execution_count": 1,
   "metadata": {},
   "outputs": [],
   "source": [
    "import random\n",
    "\n",
    "global suit, ranks, values, playing\n",
    "suits = ('Hearts', 'Diamonds', 'Spades', 'Clubs')\n",
    "ranks = ('Two', 'Three', 'Four', 'Five', 'Six', 'Seven', 'Eight', 'Nine', 'Ten', 'Jack', 'Queen', 'King', 'Ace')\n",
    "values = {'Two':2, 'Three':3, 'Four':4, 'Five':5, 'Six':6, 'Seven':7, 'Eight':8, 'Nine':9, 'Ten':10, 'Jack':10,\n",
    "         'Queen':10, 'King':10, 'Ace':11}\n",
    "\n",
    "playing = True"
   ]
  },
  {
   "cell_type": "markdown",
   "metadata": {},
   "source": [
    "### Class Definitions\n",
    "Consider making a Card class where each Card object has a suit and a rank, then a Deck class to hold all 52 Card objects, and can be shuffled, and finally a Hand class that holds those Cards that have been dealt to each player from the Deck."
   ]
  },
  {
   "cell_type": "markdown",
   "metadata": {},
   "source": [
    "**Step 2: Create a Card Class**<br>\n",
    "A Card object really only needs two attributes: suit and rank. You might add an attribute for \"value\" - we chose to handle value later when developing our Hand class.<br>In addition to the Card's \\_\\_init\\_\\_ method, consider adding a \\_\\_str\\_\\_ method that, when asked to print a Card, returns a string in the form \"Two of Hearts\""
   ]
  },
  {
   "cell_type": "code",
   "execution_count": 2,
   "metadata": {},
   "outputs": [],
   "source": [
    "class Card:\n",
    "    \n",
    "    def __init__(self, suit=None, rank=None):\n",
    "        \n",
    "        self.suit = suit.capitalize()\n",
    "        self.rank = rank.capitalize()\n",
    "        self.value = values[self.rank]\n",
    "    \n",
    "    def __str__(self):\n",
    "        return f'{self.rank} of {self.suit}'\n",
    "        "
   ]
  },
  {
   "cell_type": "code",
   "execution_count": 3,
   "metadata": {},
   "outputs": [
    {
     "data": {
      "text/plain": [
       "'Two of Hearts'"
      ]
     },
     "execution_count": 3,
     "metadata": {},
     "output_type": "execute_result"
    }
   ],
   "source": [
    "# test Card Class\n",
    "mycard = Card(\"Hearts\", \"Two\")\n",
    "str(mycard)\n"
   ]
  },
  {
   "cell_type": "markdown",
   "metadata": {},
   "source": [
    "**Step 3: Create a Deck Class**<br>\n",
    "Here we might store 52 card objects in a list that can later be shuffled. First, though, we need to *instantiate* all 52 unique card objects and add them to our list. So long as the Card class definition appears in our code, we can build Card objects inside our Deck \\_\\_init\\_\\_ method. Consider iterating over sequences of suits and ranks to build out each card. This might appear inside a Deck class \\_\\_init\\_\\_ method:\n",
    "\n",
    "    for suit in suits:\n",
    "        for rank in ranks:\n",
    "\n",
    "In addition to an \\_\\_init\\_\\_ method we'll want to add methods to shuffle our deck, and to deal out cards during gameplay.<br><br>\n",
    "OPTIONAL: We may never need to print the contents of the deck during gameplay, but having the ability to see the cards inside it may help troubleshoot any problems that occur during development. With this in mind, consider adding a \\_\\_str\\_\\_ method to the class definition."
   ]
  },
  {
   "cell_type": "code",
   "execution_count": 4,
   "metadata": {},
   "outputs": [],
   "source": [
    "class Deck:\n",
    "    \n",
    "    def __init__(self):\n",
    "        self.deck = []  # start with an empty list\n",
    "        self.used_deck = []\n",
    "        for suit in suits:\n",
    "            for rank in ranks:\n",
    "                self.deck.append(Card(suit, rank))\n",
    "                \n",
    "    def __str__(self):\n",
    "        deck = \"\"\n",
    "        for card in self.deck:\n",
    "            deck += card.__str__() + \", \"\n",
    "        deck.rstrip(', ')\n",
    "        return deck\n",
    " \n",
    "    def __used_deck__(self):\n",
    "        deck = \"\"\n",
    "        for card in self.used_deck:\n",
    "            deck += card.__str__() + \", \"\n",
    "        deck.rstrip(', ')\n",
    "        return deck\n",
    "\n",
    "    def shuffle(self):\n",
    "        random.shuffle(self.deck)\n",
    "    \n",
    "    def delete_card(self, card):\n",
    "        self.deck.remove(card)\n",
    "        self.used_deck.append(card)\n",
    "        \n",
    "    def deal(self):\n",
    "        # shuffle deck\n",
    "        self.shuffle()\n",
    "        # pick first card\n",
    "        card = self.deck[0]\n",
    "        # pick first card remove that card from the deck\n",
    "        self.delete_card(self.deck[0])\n",
    "        # return the card\n",
    "        return card"
   ]
  },
  {
   "cell_type": "markdown",
   "metadata": {},
   "source": [
    "TESTING: Just to see that everything works so far, let's see what our Deck looks like!"
   ]
  },
  {
   "cell_type": "code",
   "execution_count": 5,
   "metadata": {},
   "outputs": [
    {
     "name": "stdout",
     "output_type": "stream",
     "text": [
      "Two of Hearts, Three of Hearts, Four of Hearts, Five of Hearts, Six of Hearts, Seven of Hearts, Eight of Hearts, Nine of Hearts, Ten of Hearts, Jack of Hearts, Queen of Hearts, King of Hearts, Ace of Hearts, Two of Diamonds, Three of Diamonds, Four of Diamonds, Five of Diamonds, Six of Diamonds, Seven of Diamonds, Eight of Diamonds, Nine of Diamonds, Ten of Diamonds, Jack of Diamonds, Queen of Diamonds, King of Diamonds, Ace of Diamonds, Two of Spades, Three of Spades, Four of Spades, Five of Spades, Six of Spades, Seven of Spades, Eight of Spades, Nine of Spades, Ten of Spades, Jack of Spades, Queen of Spades, King of Spades, Ace of Spades, Two of Clubs, Three of Clubs, Four of Clubs, Five of Clubs, Six of Clubs, Seven of Clubs, Eight of Clubs, Nine of Clubs, Ten of Clubs, Jack of Clubs, Queen of Clubs, King of Clubs, Ace of Clubs, \n"
     ]
    }
   ],
   "source": [
    "test_deck = Deck()\n",
    "print(test_deck)"
   ]
  },
  {
   "cell_type": "code",
   "execution_count": 6,
   "metadata": {},
   "outputs": [
    {
     "name": "stdout",
     "output_type": "stream",
     "text": [
      "Seven of Hearts, Nine of Hearts, Seven of Spades, King of Clubs, Two of Diamonds, Seven of Clubs, Six of Diamonds, Ace of Diamonds, Jack of Hearts, Nine of Diamonds, Five of Diamonds, Nine of Spades, Three of Hearts, Ace of Clubs, Four of Diamonds, Six of Hearts, Ten of Hearts, Jack of Spades, Four of Hearts, Jack of Clubs, Ace of Hearts, Eight of Hearts, Three of Diamonds, Eight of Spades, Queen of Hearts, Eight of Diamonds, Two of Hearts, Ace of Spades, Queen of Spades, Queen of Clubs, Two of Clubs, Two of Spades, Three of Clubs, Four of Clubs, Queen of Diamonds, Ten of Spades, Four of Spades, Six of Clubs, Three of Spades, Ten of Clubs, King of Spades, Ten of Diamonds, Five of Hearts, Jack of Diamonds, Nine of Clubs, King of Diamonds, Eight of Clubs, Five of Spades, Five of Clubs, Seven of Diamonds, Six of Spades, King of Hearts, \n"
     ]
    }
   ],
   "source": [
    "test_deck = Deck()\n",
    "test_deck.shuffle()\n",
    "print(test_deck)"
   ]
  },
  {
   "cell_type": "code",
   "execution_count": 7,
   "metadata": {},
   "outputs": [
    {
     "name": "stdout",
     "output_type": "stream",
     "text": [
      "Ten of Hearts, Jack of Diamonds, King of Spades, Three of Diamonds, Five of Hearts, Four of Hearts, Eight of Clubs, Ten of Spades, Eight of Diamonds, Three of Spades, King of Hearts, Ace of Spades, Nine of Clubs, Seven of Clubs, Four of Clubs, Five of Diamonds, Queen of Clubs, Jack of Spades, Four of Spades, Ace of Diamonds, Nine of Spades, Nine of Hearts, Ten of Clubs, Six of Clubs, King of Clubs, Eight of Hearts, Ace of Hearts, Seven of Spades, Queen of Hearts, Queen of Diamonds, King of Diamonds, Seven of Diamonds, Two of Diamonds, Six of Diamonds, Nine of Diamonds, Five of Spades, Eight of Spades, Two of Spades, Jack of Hearts, Two of Clubs, Six of Hearts, Four of Diamonds, Jack of Clubs, Three of Clubs, Ace of Clubs, Five of Clubs, Three of Hearts, Ten of Diamonds, Seven of Hearts, Six of Spades, Queen of Spades, \n",
      "Two of Hearts, \n"
     ]
    }
   ],
   "source": [
    "test_deck = Deck()\n",
    "test_deck.shuffle()\n",
    "test_deck.delete_card(test_deck.deck[0])\n",
    "print(test_deck)\n",
    "print(test_deck.__used_deck__())"
   ]
  },
  {
   "cell_type": "code",
   "execution_count": 8,
   "metadata": {},
   "outputs": [
    {
     "name": "stdout",
     "output_type": "stream",
     "text": [
      "Two of Diamonds\n"
     ]
    }
   ],
   "source": [
    "test_deck = Deck()\n",
    "test_deck.shuffle()\n",
    "print(test_deck.deal())"
   ]
  },
  {
   "cell_type": "markdown",
   "metadata": {},
   "source": [
    "Great! Now let's move on to our Hand class."
   ]
  },
  {
   "cell_type": "markdown",
   "metadata": {},
   "source": [
    "**Step 4: Create a Hand Class**<br>\n",
    "In addition to holding Card objects dealt from the Deck, the Hand class may be used to calculate the value of those cards using the values dictionary defined above. It may also need to adjust for the value of Aces when appropriate."
   ]
  },
  {
   "cell_type": "code",
   "execution_count": 9,
   "metadata": {},
   "outputs": [],
   "source": [
    "import itertools\n",
    "\n",
    "class Hand:\n",
    "    \n",
    "    def __init__(self):\n",
    "        self.cards = []  # start with an empty list as we did in the Deck class\n",
    "        self.value = 0   # start with zero value\n",
    "        self.aces = 0    # add an attribute to keep track of aces\n",
    "        self.bust = False\n",
    "\n",
    "    def __str__(self):\n",
    "        hand = \"\"\n",
    "        value = 0\n",
    "        hand += f'Hand Value(s):\\n'\n",
    "        hand += self.hand_value()\n",
    "        return hand\n",
    "        \n",
    "    def add_card(self, card):\n",
    "        self.cards.append(card)\n",
    "        self.hand_value()\n",
    "    \n",
    "    def is_even(self, x):\n",
    "        return (x % 2) == 0\n",
    "    \n",
    "    def count_aces(self):\n",
    "        return sum([card.rank.count('Ace') for card in self.cards])\n",
    "            \n",
    "    def lte_21(self, value_list):\n",
    "        return sum(value_list) <= 21\n",
    "    \n",
    "    def hand_value(self):\n",
    "        # calculates hand value where aces can be either 1 or 11\n",
    "        # returns a list of lists for all possible Unique combindations\n",
    "        # combinations must be less that 21\n",
    "        # if no valid combinations return empty list\n",
    "        card_count = len(self.cards)\n",
    "        ace_count = self.count_aces()\n",
    "        card_list = []\n",
    "        #\n",
    "        for card in self.cards:\n",
    "            if not card.rank == 'Ace':\n",
    "                card_list.append(card.value)\n",
    "            \n",
    "        # create a card list for each ace\n",
    "        card_value_list = []\n",
    "        if ace_count == 0:\n",
    "            card_value_list.append(card_list)\n",
    "        else:\n",
    "            # create card value list\n",
    "            for x in range(ace_count * 2):\n",
    "                card_value_list.append(card_list)\n",
    "            # create ace value list\n",
    "            ace_list = list(set(itertools.combinations([1, 11] * ace_count, ace_count)))\n",
    "            ace_list = list(map(list, ace_list))\n",
    "            # concactenate the two lists\n",
    "            for i in range(ace_count * 2):\n",
    "                card_value_list[i] = card_value_list[i] + ace_list[i]\n",
    "            \n",
    "        # ensure unique list\n",
    "        combo_list = list(set(map(tuple, map(sorted, card_value_list))))\n",
    "        max_list = combo_list\n",
    "        # filter out combinations that are duplicate or > 21\n",
    "        combo_list = list(filter(self.lte_21, combo_list))\n",
    "        # sort each item in the combolist\n",
    "        combo_list = list(map(sorted, combo_list))\n",
    "        \n",
    "        \n",
    "        if not combo_list:\n",
    "            # Busted\n",
    "            self.bust = True\n",
    "            self.value = max([sum(valsum) for valsum in max_list])\n",
    "            return f\"BUST! Value: {self.value}\"\n",
    "        else:\n",
    "            # Calculate Hand / Hand Values\n",
    "            hand_value = \"\"\n",
    "            values = []\n",
    "            for item in combo_list:\n",
    "                hand_value += f'{list(map(str, self.cards))} Value: {sum(item)}\\n'\n",
    "                values.append(sum(item))\n",
    "            \n",
    "            # what is the hands max value\n",
    "            self.value = max(values)\n",
    "            return hand_value\n",
    "        \n",
    "        \n",
    "        \n",
    "        \n",
    "        "
   ]
  },
  {
   "cell_type": "code",
   "execution_count": 10,
   "metadata": {},
   "outputs": [
    {
     "name": "stdout",
     "output_type": "stream",
     "text": [
      "20\n",
      "Max Hand: 20\n"
     ]
    }
   ],
   "source": [
    "# test No Aces Under\n",
    "test_deck = Deck()\n",
    "test_deck.shuffle()\n",
    "test_hand = Hand()\n",
    "test_hand.add_card(Card(\"Spades\", \"Five\"))\n",
    "test_hand.add_card(Card(\"Hearts\", \"Two\"))\n",
    "test_hand.add_card(Card(\"Spades\", \"Three\"))\n",
    "test_hand.add_card(Card(\"Hearts\", \"King\"))\n",
    "#test_hand.count_aces()\n",
    "print(test_hand.value)\n",
    "print(f'Max Hand: {test_hand.value}')\n"
   ]
  },
  {
   "cell_type": "code",
   "execution_count": 11,
   "metadata": {},
   "outputs": [
    {
     "name": "stdout",
     "output_type": "stream",
     "text": [
      "Hand Value(s):\n",
      "BUST! Value: 24\n"
     ]
    }
   ],
   "source": [
    "# test No Aces BUST\n",
    "test_deck = Deck()\n",
    "test_deck.shuffle()\n",
    "test_hand = Hand()\n",
    "test_hand.add_card(Card(\"Spades\", \"Five\"))\n",
    "test_hand.add_card(Card(\"Hearts\", \"Two\"))\n",
    "test_hand.add_card(Card(\"Spades\", \"Seven\"))\n",
    "test_hand.add_card(Card(\"Hearts\", \"King\"))\n",
    "print(test_hand)\n"
   ]
  },
  {
   "cell_type": "code",
   "execution_count": 12,
   "metadata": {
    "scrolled": true
   },
   "outputs": [
    {
     "name": "stdout",
     "output_type": "stream",
     "text": [
      "Hand Value(s):\n",
      "['Three of Diamonds', 'Three of Clubs', 'Ace of Spades', 'Ace of Hearts'] Value: 8\n",
      "['Three of Diamonds', 'Three of Clubs', 'Ace of Spades', 'Ace of Hearts'] Value: 18\n",
      "\n",
      "Max Hand: 18\n"
     ]
    }
   ],
   "source": [
    "test_deck = Deck()\n",
    "test_deck.shuffle()\n",
    "test_hand = Hand()\n",
    "test_hand.add_card(Card(\"Diamonds\", \"Three\"))\n",
    "test_hand.add_card(Card(\"Clubs\", \"Three\"))\n",
    "test_hand.add_card(Card(\"Spades\", \"Ace\"))\n",
    "test_hand.add_card(Card(\"Hearts\", \"Ace\"))\n",
    "test_hand.count_aces()\n",
    "print(test_hand)\n",
    "print(f'Max Hand: {test_hand.value}')\n"
   ]
  },
  {
   "cell_type": "markdown",
   "metadata": {},
   "source": [
    "**Step 5: Create a Chips Class**<br>\n",
    "In addition to decks of cards and hands, we need to keep track of a Player's starting chips, bets, and ongoing winnings. This could be done using global variables, but in the spirit of object oriented programming, let's make a Chips class instead!"
   ]
  },
  {
   "cell_type": "code",
   "execution_count": 13,
   "metadata": {},
   "outputs": [],
   "source": [
    "class Chips:\n",
    "    \n",
    "    def __init__(self):\n",
    "        self.total = 100  # This can be set to a default value or supplied by a user input\n",
    "        self.bet = 0\n",
    "    \n",
    "    def __str__(self):\n",
    "        return f'Chips Total: {self.total}'\n",
    "    \n",
    "    def set_bet(self, bet):\n",
    "        self.bet = bet\n",
    "    \n",
    "    def win_bet(self):\n",
    "        self.total += self.bet\n",
    "        print(self)\n",
    "    \n",
    "    def lose_bet(self):\n",
    "        self.total -= self.bet\n",
    "        print(self)"
   ]
  },
  {
   "cell_type": "markdown",
   "metadata": {},
   "source": [
    "### Function Defintions\n",
    "A lot of steps are going to be repetitive. That's where functions come in! The following steps are guidelines - add or remove functions as needed in your own program."
   ]
  },
  {
   "cell_type": "markdown",
   "metadata": {},
   "source": [
    "**Step 6: Write a function for taking bets**<br>\n",
    "Since we're asking the user for an integer value, this would be a good place to use <code>try</code>/<code>except</code>. Remember to check that a Player's bet can be covered by their available chips."
   ]
  },
  {
   "cell_type": "code",
   "execution_count": 14,
   "metadata": {},
   "outputs": [],
   "source": [
    "def take_bet(chips):\n",
    "    \n",
    "    # take the bet\n",
    "    while True:\n",
    "        try:\n",
    "            bet = int(input(f\"Place your bet (Available Chips: {chips.total}): \"))\n",
    "        except:\n",
    "            print('Invalid Entry! must be an integer, try again')\n",
    "        else:\n",
    "            if bet > chips.total:\n",
    "                print(f'Not enough chips! enter a number less than or equal to {chips.total}')\n",
    "                next\n",
    "            else:\n",
    "                break\n",
    "    \n",
    "    chips.set_bet(bet)            \n",
    "    print(f'Bet Placed: {bet}\\n')\n"
   ]
  },
  {
   "cell_type": "code",
   "execution_count": 15,
   "metadata": {},
   "outputs": [
    {
     "name": "stdout",
     "output_type": "stream",
     "text": [
      "Place your bet (Available Chips: 100): 49\n",
      "Bet Placed: 49\n",
      "\n",
      "Chips Total: 149\n",
      "Chips Total: 100\n"
     ]
    }
   ],
   "source": [
    "# test take bet\n",
    "chips = Chips()\n",
    "take_bet(chips)\n",
    "chips.win_bet()\n",
    "chips.lose_bet()\n",
    "\n"
   ]
  },
  {
   "cell_type": "markdown",
   "metadata": {},
   "source": [
    "**Step 7: Write a function for taking hits**<br>\n",
    "Either player can take hits until they bust. This function will be called during gameplay anytime a Player requests a hit, or a Dealer's hand is less than 17. It should take in Deck and Hand objects as arguments, and deal one card off the deck and add it to the Hand. You may want it to check for aces in the event that a player's hand exceeds 21."
   ]
  },
  {
   "cell_type": "code",
   "execution_count": 29,
   "metadata": {},
   "outputs": [],
   "source": [
    "def hit(deck, hand):\n",
    "    hand.add_card(deck.deal())\n"
   ]
  },
  {
   "cell_type": "code",
   "execution_count": 32,
   "metadata": {},
   "outputs": [
    {
     "name": "stdout",
     "output_type": "stream",
     "text": [
      "Hand Value(s):\n",
      "['Three of Hearts', 'Ten of Clubs', 'Seven of Spades'] Value: 20\n",
      "\n"
     ]
    }
   ],
   "source": [
    "# test_hit\n",
    "test_deck = Deck()\n",
    "test_deck.shuffle()\n",
    "test_hand = Hand()\n",
    "hit(test_deck, test_hand)\n",
    "hit(test_deck, test_hand)\n",
    "hit(test_deck, test_hand)\n",
    "print(test_hand)\n",
    "\n",
    "\n"
   ]
  },
  {
   "cell_type": "markdown",
   "metadata": {},
   "source": [
    "**Step 8: Write a function prompting the Player to Hit or Stand**<br>\n",
    "This function should accept the deck and the player's hand as arguments, and assign playing as a global variable.<br>\n",
    "If the Player Hits, employ the hit() function above. If the Player Stands, set the playing variable to False - this will control the behavior of a <code>while</code> loop later on in our code."
   ]
  },
  {
   "cell_type": "code",
   "execution_count": 27,
   "metadata": {},
   "outputs": [],
   "source": [
    "def hit_or_stand(deck, hand):\n",
    "    \n",
    "    # take the bet\n",
    "    action = input(f\"Enter 1|h|H|Hit|hit|HIT or 2|s|S|Stand|stand|STAND: \")\n",
    "    \n",
    "    if action.lower() in ('1', 'hit', 'h'):\n",
    "        print('Player Hits')\n",
    "        hit(deck, hand)\n",
    "    elif action in ('2', 'stand', 's'):\n",
    "        print('Player Stands')\n",
    "        return False\n",
    "    else:\n",
    "        print('Error! in hit or stand')\n",
    "    \n",
    "    return True\n",
    "            \n",
    "                "
   ]
  },
  {
   "cell_type": "code",
   "execution_count": 33,
   "metadata": {},
   "outputs": [
    {
     "name": "stdout",
     "output_type": "stream",
     "text": [
      "Enter 1|h|H|Hit|hit|HIT or 2|s|S|Stand|stand|STAND: 1\n",
      "Player Hits\n",
      "Enter 1|h|H|Hit|hit|HIT or 2|s|S|Stand|stand|STAND: 2\n",
      "Player Stands\n"
     ]
    }
   ],
   "source": [
    "# test_hit_or stand\n",
    "test_deck = Deck()\n",
    "test_deck.shuffle()\n",
    "test_hand = Hand()\n",
    "hitstand = hit_or_stand(test_deck, test_hand)\n",
    "hitstand = hit_or_stand(test_deck, test_hand)\n"
   ]
  },
  {
   "cell_type": "markdown",
   "metadata": {},
   "source": [
    "**Step 9: Write functions to display cards**<br>\n",
    "When the game starts, and after each time Player takes a card, the dealer's first card is hidden and all of Player's cards are visible. At the end of the hand all cards are shown, and you may want to show each hand's total value. Write a function for each of these scenarios."
   ]
  },
  {
   "cell_type": "code",
   "execution_count": 20,
   "metadata": {},
   "outputs": [],
   "source": [
    "def show_some(dealer, player):\n",
    "    # Dealer\n",
    "    print(\"\\nDealers Cards:\")\n",
    "    print(\"**1st Card Hidden**\")\n",
    "    for card in dealer.cards[1:]:\n",
    "        print(card)\n",
    "        \n",
    "    # Player\n",
    "    print(\"\\nPlayers Cards:\")\n",
    "    hand = str(player).replace(\"Hand Value(s):\\n\",\"\")\n",
    "    print(hand)\n"
   ]
  },
  {
   "cell_type": "code",
   "execution_count": 21,
   "metadata": {},
   "outputs": [
    {
     "name": "stdout",
     "output_type": "stream",
     "text": [
      "\n",
      "Dealers Cards:\n",
      "**1st Card Hidden**\n",
      "Six of Spades\n",
      "\n",
      "Players Cards:\n",
      "['Seven of Hearts', 'Six of Spades'] Value: 13\n",
      "\n"
     ]
    }
   ],
   "source": [
    "# test show some\n",
    "test_deck = Deck()\n",
    "test_deck.shuffle()\n",
    "test_hand = Hand()\n",
    "test_hand = hit(test_deck, test_hand)\n",
    "test_hand = hit(test_deck, test_hand)\n",
    "show_some(test_hand, test_hand)\n"
   ]
  },
  {
   "cell_type": "code",
   "execution_count": 22,
   "metadata": {},
   "outputs": [],
   "source": [
    "def show_all(dealer, player):\n",
    "    # Dealer\n",
    "    print(\"\\nDealers Cards:\")\n",
    "    hand = str(dealer).replace(\"Hand Value(s):\\n\",\"\")\n",
    "    print(hand)\n",
    "        \n",
    "    # Player\n",
    "    print(\"Players Cards:\")\n",
    "    hand = str(player).replace(\"Hand Value(s):\\n\",\"\")\n",
    "    print(hand)\n"
   ]
  },
  {
   "cell_type": "code",
   "execution_count": 23,
   "metadata": {},
   "outputs": [
    {
     "name": "stdout",
     "output_type": "stream",
     "text": [
      "\n",
      "Dealers Cards:\n",
      "['Five of Diamonds', 'Ten of Hearts'] Value: 15\n",
      "\n",
      "Players Cards:\n",
      "['Five of Diamonds', 'Ten of Hearts'] Value: 15\n",
      "\n"
     ]
    }
   ],
   "source": [
    "# test show all\n",
    "test_deck = Deck()\n",
    "test_deck.shuffle()\n",
    "test_hand = Hand()\n",
    "test_hand = hit(test_deck, test_hand)\n",
    "test_hand = hit(test_deck, test_hand)\n",
    "show_all(test_hand, test_hand)"
   ]
  },
  {
   "cell_type": "markdown",
   "metadata": {},
   "source": [
    "**Step 10: Write functions to handle end of game scenarios**<br>\n",
    "Remember to pass player's hand, dealer's hand and chips as needed."
   ]
  },
  {
   "cell_type": "code",
   "execution_count": 24,
   "metadata": {},
   "outputs": [],
   "source": [
    "def player_busts(player):\n",
    "    # Input: hand\n",
    "    return player.bust\n",
    "\n",
    "def player_wins(dealer, player):\n",
    "    # Inputs: dealers hand, players hand\n",
    "    return player.value > dealer.value\n",
    "\n",
    "def dealer_busts(dealer):\n",
    "    # Input: dealers hand\n",
    "    return dealer.bust\n",
    "    \n",
    "def dealer_wins(dealer, player):\n",
    "    # Inputs: dealers hand, players hand\n",
    "    return dealer.value > player.value\n",
    "    \n",
    "def push(dealer, player):\n",
    "    # Inputs: dealers hand, players hand\n",
    "    return dealer.value == player.value"
   ]
  },
  {
   "cell_type": "code",
   "execution_count": 25,
   "metadata": {},
   "outputs": [],
   "source": [
    "def replay():\n",
    "    return input('Do you want to play again? Enter Yes or No: ').lower().startswith('y')"
   ]
  },
  {
   "cell_type": "markdown",
   "metadata": {},
   "source": [
    "### And now on to the game!!"
   ]
  },
  {
   "cell_type": "code",
   "execution_count": 39,
   "metadata": {},
   "outputs": [
    {
     "name": "stdout",
     "output_type": "stream",
     "text": [
      "Welcome to Black Jack!\n",
      "\n",
      "Chips Total: 0\n",
      "Place your bet (Available Chips: 0): 0\n",
      "Bet Placed: 0\n",
      "\n",
      "\n",
      "Dealers Cards:\n",
      "**1st Card Hidden**\n",
      "King of Spades\n",
      "\n",
      "Players Cards:\n",
      "['Ten of Clubs', 'Nine of Clubs'] Value: 19\n",
      "\n",
      "Enter 1|h|H|Hit|hit|HIT or 2|s|S|Stand|stand|STAND: s\n",
      "Player Stands\n",
      "\n",
      "Dealers Cards:\n",
      "**1st Card Hidden**\n",
      "King of Spades\n",
      "\n",
      "Players Cards:\n",
      "['Ten of Clubs', 'Nine of Clubs'] Value: 19\n",
      "\n",
      "\n",
      "Dealers Cards:\n",
      "['Six of Diamonds', 'King of Spades', 'Five of Clubs'] Value: 21\n",
      "\n",
      "Players Cards:\n",
      "['Ten of Clubs', 'Nine of Clubs'] Value: 19\n",
      "\n",
      "Chips Total: 0\n",
      "Dealer Wins!\n",
      "Chips Total: 0\n",
      "Do you want to play again? Enter Yes or No: n\n"
     ]
    }
   ],
   "source": [
    "from IPython.display import clear_output\n",
    "playing = True\n",
    "\n",
    "# Set up the Player's chips\n",
    "chips = Chips()\n",
    "\n",
    "while True:\n",
    "    # Print an opening statement\n",
    "    clear_output()\n",
    "    print('Welcome to Black Jack!\\n')\n",
    "    \n",
    "    # Create & shuffle the deck, deal two cards to each player\n",
    "    deck = Deck()\n",
    "    deck.shuffle()\n",
    "    \n",
    "    # create player hand\n",
    "    player = Hand()\n",
    "    hit(deck, player)\n",
    "    hit(deck, player)\n",
    "    \n",
    "    # create dealer hand\n",
    "    dealer = Hand()\n",
    "    hit(deck, dealer)\n",
    "    hit(deck, dealer)\n",
    "    \n",
    "    # Set up the Player's chips\n",
    "    chips.bet = 0\n",
    "    print(chips)\n",
    "                \n",
    "    # Prompt the Player for their bet\n",
    "    take_bet(chips)\n",
    "\n",
    "    # Show cards (but keep one dealer card hidden)\n",
    "    show_some(dealer, player)\n",
    "    \n",
    "    while playing:  # recall this variable from our hit_or_stand function\n",
    "        \n",
    "        # Prompt for Player to Hit or Stand\n",
    "        playing = hit_or_stand(deck, player)\n",
    "        \n",
    "        # Show cards (but keep one dealer card hidden)\n",
    "        show_some(dealer, player)\n",
    "        \n",
    "        # If player's hand exceeds 21, run player_busts() and break out of loop\n",
    "        if player_busts(player):\n",
    "            print('Player Busts!')\n",
    "            break\n",
    "\n",
    "    # If Player hasn't busted, play Dealer's hand until Dealer reaches 17\n",
    "    while dealer.value <= 17 and not player_busts(player):\n",
    "        hit(deck, dealer)\n",
    "\n",
    "    # Show all cards\n",
    "    show_all(dealer, player)\n",
    "\n",
    "    # Run different winning scenarios\n",
    "    if player_busts(player):\n",
    "        chips.lose_bet()\n",
    "        print('Player Busted!')\n",
    "    elif player_wins(dealer, player):\n",
    "        chips.win_bet()\n",
    "        print('Player Wins!')\n",
    "    elif dealer_busts(dealer):\n",
    "        chips.win_bet()\n",
    "        print('Player Wins! / Dealer Busted!')\n",
    "    elif dealer_wins(dealer, player):\n",
    "        chips.lose_bet()\n",
    "        print('Dealer Wins!')\n",
    "    elif push(dealer, player):\n",
    "        print('Push... Tie!')\n",
    "    else:\n",
    "        print('Error! - Indeterminite Win Status')\n",
    "\n",
    "    # Inform Player of their chips total\n",
    "    print(chips)\n",
    "\n",
    "    # Ask to play again\n",
    "    if not replay():\n",
    "        break\n",
    "    \n",
    "    playing = True\n"
   ]
  },
  {
   "cell_type": "markdown",
   "metadata": {},
   "source": [
    "And that's it! Remember, these steps may differ significantly from your own solution. That's OK! Keep working on different sections of your program until you get the desired results. It takes a lot of time and patience! As always, feel free to post questions and comments to the QA Forums.\n",
    "# Good job!"
   ]
  }
 ],
 "metadata": {
  "kernelspec": {
   "display_name": "Python 3",
   "language": "python",
   "name": "python3"
  },
  "language_info": {
   "codemirror_mode": {
    "name": "ipython",
    "version": 3
   },
   "file_extension": ".py",
   "mimetype": "text/x-python",
   "name": "python",
   "nbconvert_exporter": "python",
   "pygments_lexer": "ipython3",
   "version": "3.7.6"
  }
 },
 "nbformat": 4,
 "nbformat_minor": 1
}
